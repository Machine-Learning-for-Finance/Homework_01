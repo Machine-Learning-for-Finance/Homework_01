{
 "cells": [
  {
   "cell_type": "code",
   "execution_count": 2,
   "metadata": {},
   "outputs": [
    {
     "name": "stdout",
     "output_type": "stream",
     "text": [
      "Collecting requests\n",
      "  Using cached https://files.pythonhosted.org/packages/51/bd/23c926cd341ea6b7dd0b2a00aba99ae0f828be89d72b2190f27c11d4b7fb/requests-2.22.0-py2.py3-none-any.whl\n",
      "Collecting urllib3!=1.25.0,!=1.25.1,<1.26,>=1.21.1 (from requests)\n",
      "  Using cached https://files.pythonhosted.org/packages/e6/60/247f23a7121ae632d62811ba7f273d0e58972d75e58a94d329d51550a47d/urllib3-1.25.3-py2.py3-none-any.whl\n",
      "Collecting idna<2.9,>=2.5 (from requests)\n",
      "  Using cached https://files.pythonhosted.org/packages/14/2c/cd551d81dbe15200be1cf41cd03869a46fe7226e7450af7a6545bfc474c9/idna-2.8-py2.py3-none-any.whl\n",
      "Collecting certifi>=2017.4.17 (from requests)\n",
      "  Using cached https://files.pythonhosted.org/packages/18/b0/8146a4f8dd402f60744fa380bc73ca47303cccf8b9190fd16a827281eac2/certifi-2019.9.11-py2.py3-none-any.whl\n",
      "Collecting chardet<3.1.0,>=3.0.2 (from requests)\n",
      "  Using cached https://files.pythonhosted.org/packages/bc/a9/01ffebfb562e4274b6487b4bb1ddec7ca55ec7510b22e4c51f14098443b8/chardet-3.0.4-py2.py3-none-any.whl\n",
      "Installing collected packages: urllib3, idna, certifi, chardet, requests\n",
      "Successfully installed certifi-2019.9.11 chardet-3.0.4 idna-2.8 requests-2.22.0 urllib3-1.25.3\n",
      "\u001b[33mYou are using pip version 19.0.3, however version 19.2.3 is available.\n",
      "You should consider upgrading via the 'pip install --upgrade pip' command.\u001b[0m\n"
     ]
    }
   ],
   "source": [
    "!pip install requests\n",
    "from requests import post, get"
   ]
  },
  {
   "cell_type": "code",
   "execution_count": 28,
   "metadata": {},
   "outputs": [],
   "source": [
    "import json\n",
    "from requests import post, get\n",
    "\n",
    "def test_server(is_docker: bool=False):\n",
    "    if is_docker:\n",
    "        port = 8000\n",
    "    else:\n",
    "        port = 8001 # When Using Flask Test Server\n",
    "    url = f\"http://0.0.0.0:{port}\"\n",
    "    \n",
    "    # Checking Heartbeat\n",
    "    print(\"Checking Heartbeat from System:\")\n",
    "    print(\"===============================\")\n",
    "    uri = f\"{url}/heartbeat\"\n",
    "    resp = get(uri)\n",
    "    if resp.status_code == 200:\n",
    "        print(resp.json())\n",
    "    else:\n",
    "        print(f\"Returned Status Code: {resp.status_code}\\nError With Server\")\n",
    "        \n",
    "    print(\"Checking Sum from System:\")\n",
    "    print(\"===============================\")\n",
    "    uri = f\"{url}/sum\"\n",
    "    data = {\"x\": 10, \"y\": 12}\n",
    "    jdump = json.dumps(data)\n",
    "    print(jdump)\n",
    "    resp = post(\n",
    "        uri,\n",
    "        json=data\n",
    "    )\n",
    "    \n",
    "    if resp.status_code == 200:\n",
    "        print(resp.json())\n",
    "    else:\n",
    "        print(f\"Returned Status Code: {resp.status_code}\\nError With Server\")\n",
    "    \n",
    "    print(\"Checking Minimum from System:\")\n",
    "    print(\"===============================\")\n",
    "    uri = f\"{url}/minimum\"\n",
    "    data = {'values': [1,5,3,2]}\n",
    "    jdump = json.dumps(data)\n",
    "    print(jdump)\n",
    "    resp = post(\n",
    "        uri,\n",
    "        json=data\n",
    "    )\n",
    "    if resp.status_code == 200:\n",
    "        print(resp.json())\n",
    "    else:\n",
    "        print(f\"Returned Status Code: {resp.status_code}\\nError With Server\")\n",
    "    \n",
    "    \n",
    "    print(\"Checking Product from System:\")\n",
    "    print(\"===============================\")\n",
    "    uri = f\"{url}/minimum\"\n",
    "    data = {'values': [1,5,3,2]}\n",
    "    jdump = json.dumps(data)\n",
    "    print(jdump)\n",
    "    resp = post(\n",
    "        uri,\n",
    "        json=data\n",
    "    )\n",
    "    if resp.status_code == 200:\n",
    "        print(resp.json())\n",
    "    else:\n",
    "        print(f\"Returned Status Code: {resp.status_code}\\nError With Server\")\n",
    "    \n",
    "    "
   ]
  },
  {
   "cell_type": "code",
   "execution_count": 29,
   "metadata": {},
   "outputs": [
    {
     "name": "stdout",
     "output_type": "stream",
     "text": [
      "Checking Heartbeat from System:\n",
      "===============================\n",
      "{'status': True, 'service': 'Homework_Template', 'datetime': '2019-09-14 18:24:52.525256'}\n",
      "Checking Sum from System:\n",
      "===============================\n",
      "{\"x\": 10, \"y\": 12}\n",
      "{'result': 22}\n",
      "Checking Minimum from System:\n",
      "===============================\n",
      "{\"x\": 10, \"y\": 12}\n",
      "Returned Status Code: 404\n",
      "Error With Server\n",
      "Checking Product from System:\n",
      "===============================\n",
      "{\"x\": 10, \"y\": 12}\n",
      "Returned Status Code: 404\n",
      "Error With Server\n"
     ]
    }
   ],
   "source": [
    "test_server()"
   ]
  },
  {
   "cell_type": "code",
   "execution_count": null,
   "metadata": {},
   "outputs": [],
   "source": []
  },
  {
   "cell_type": "code",
   "execution_count": null,
   "metadata": {},
   "outputs": [],
   "source": []
  }
 ],
 "metadata": {
  "kernelspec": {
   "display_name": "Python 3",
   "language": "python",
   "name": "python3"
  },
  "language_info": {
   "codemirror_mode": {
    "name": "ipython",
    "version": 3
   },
   "file_extension": ".py",
   "mimetype": "text/x-python",
   "name": "python",
   "nbconvert_exporter": "python",
   "pygments_lexer": "ipython3",
   "version": "3.7.3"
  }
 },
 "nbformat": 4,
 "nbformat_minor": 4
}
